{
 "cells": [
  {
   "cell_type": "code",
   "execution_count": 412,
   "metadata": {},
   "outputs": [],
   "source": [
    "from dotenv import dotenv_values\n",
    "# from api.zendesk import Client as ZenClient\n",
    "# from macros_service import MacroService\n",
    "import pandas as pd"
   ]
  },
  {
   "cell_type": "code",
   "execution_count": 413,
   "metadata": {},
   "outputs": [],
   "source": [
    "config = dotenv_values(\".env\")"
   ]
  },
  {
   "cell_type": "code",
   "execution_count": 414,
   "metadata": {},
   "outputs": [],
   "source": [
    "files_path = '../public/files'\n",
    "filename = 'macros_PRD_20220406'"
   ]
  },
  {
   "cell_type": "code",
   "execution_count": 415,
   "metadata": {},
   "outputs": [],
   "source": [
    "df = pd.read_json(f'{files_path}/{filename}.json')"
   ]
  },
  {
   "cell_type": "code",
   "execution_count": 416,
   "metadata": {},
   "outputs": [],
   "source": [
    "data = []"
   ]
  },
  {
   "cell_type": "code",
   "execution_count": 417,
   "metadata": {},
   "outputs": [],
   "source": [
    "def get_action_value(actions, field):\n",
    "    action_return = [action for action in actions if action.get('field').lower() == field.strip().lower()]\n",
    "    return action_return[0]['value'] if len(action_return) > 0 else None\n",
    "\n",
    "def extract_macro_by_row(row):\n",
    "    try:\n",
    "        actions = row['actions']\n",
    "\n",
    "        comment_html = get_action_value(actions, 'comment_value_html')\n",
    "        comment_public = get_action_value(actions, 'comment_mode_is_public')\n",
    "        status = get_action_value(actions, 'status')\n",
    "        forms = get_action_value(actions, 'ticket_form_id')\n",
    "        # arvore_classificacao = get_action_value(actions, 'None')\n",
    "        # product_name = get_action_value(actions, 'custom_fields_1900005027624')\n",
    "        # product_value = get_action_value(actions, 'custom_fields_1900005027624')\n",
    "        # reason = get_action_value(actions, 'custom_fields_1260825454789')\n",
    "        # secondary_reason = get_action_value(actions, 'custom_fields_1260825544250')\n",
    "        subject = get_action_value(actions, 'subject')\n",
    "        tags = get_action_value(actions, 'current_tags')\n",
    "        n2_area = get_action_value(actions, 'custom_fields_4412934569243')\n",
    "        n2_classification = get_action_value(actions, 'custom_fields_4414841562907')\n",
    "        n2_detail = get_action_value(actions, 'custom_fields_4414841580571')\n",
    "\n",
    "        if row['restriction']:\n",
    "            restriction_ids = [str(id) for id in row['restriction']['ids']]\n",
    "        else:\n",
    "            restriction_ids = []\n",
    "\n",
    "        new_data = {\n",
    "            'title': row['title'],\n",
    "            'active': row['active'],\n",
    "            'description': row['description'],\n",
    "            'comment_html': comment_html,\n",
    "            'comment_public': comment_public,\n",
    "            'status': status,\n",
    "            'forms': forms,\n",
    "            # 'arvore_classificacao': row['arvore_classificacao'],\n",
    "            # 'product_name': product_name,\n",
    "            # 'product_value': product_value,\n",
    "            # 'reason': reason,\n",
    "            # 'secondary_reason': secondary_reason,\n",
    "            'subject': subject,\n",
    "            # 'topic': row['topic'],\n",
    "            'tags': tags,\n",
    "            'n2_area': n2_area,\n",
    "            'n2_classification': n2_classification,\n",
    "            'n2_detail': n2_detail,\n",
    "            'restriction': ','.join(restriction_ids),\n",
    "        }\n",
    "        data.append(new_data)\n",
    "    except Exception as err:\n",
    "        print(err)\n",
    "        pass"
   ]
  },
  {
   "cell_type": "code",
   "execution_count": 418,
   "metadata": {},
   "outputs": [
    {
     "data": {
      "text/plain": [
       "0       None\n",
       "1       None\n",
       "2       None\n",
       "3       None\n",
       "4       None\n",
       "        ... \n",
       "1356    None\n",
       "1357    None\n",
       "1358    None\n",
       "1359    None\n",
       "1360    None\n",
       "Length: 1361, dtype: object"
      ]
     },
     "execution_count": 418,
     "metadata": {},
     "output_type": "execute_result"
    }
   ],
   "source": [
    "df.apply(lambda x: extract_macro_by_row(x), axis=1)"
   ]
  },
  {
   "cell_type": "code",
   "execution_count": 419,
   "metadata": {},
   "outputs": [],
   "source": [
    "# print(data)"
   ]
  },
  {
   "cell_type": "code",
   "execution_count": 420,
   "metadata": {},
   "outputs": [],
   "source": [
    "new_df = pd.DataFrame(data)"
   ]
  },
  {
   "cell_type": "code",
   "execution_count": 421,
   "metadata": {},
   "outputs": [],
   "source": [
    "new_df.to_csv(f'{files_path}/{filename}.csv', sep=';', encoding='utf-8', index=False)"
   ]
  }
 ],
 "metadata": {
  "interpreter": {
   "hash": "485c830faa2bd3b138fe68808b7f9b8913a818a45087688a576d82513c5718ad"
  },
  "kernelspec": {
   "display_name": "Python 3.10.2 64-bit",
   "language": "python",
   "name": "python3"
  },
  "language_info": {
   "codemirror_mode": {
    "name": "ipython",
    "version": 3
   },
   "file_extension": ".py",
   "mimetype": "text/x-python",
   "name": "python",
   "nbconvert_exporter": "python",
   "pygments_lexer": "ipython3",
   "version": "3.10.2"
  },
  "orig_nbformat": 4
 },
 "nbformat": 4,
 "nbformat_minor": 2
}
